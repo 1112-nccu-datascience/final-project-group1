{
 "cells": [
  {
   "cell_type": "code",
   "execution_count": 1,
   "id": "c6d3da8d",
   "metadata": {
    "execution": {
     "iopub.execute_input": "2023-06-04T01:37:30.378856Z",
     "iopub.status.busy": "2023-06-04T01:37:30.376076Z",
     "iopub.status.idle": "2023-06-04T01:37:55.171205Z",
     "shell.execute_reply": "2023-06-04T01:37:55.168945Z"
    },
    "papermill": {
     "duration": 24.807298,
     "end_time": "2023-06-04T01:37:55.175068",
     "exception": false,
     "start_time": "2023-06-04T01:37:30.367770",
     "status": "completed"
    },
    "tags": []
   },
   "outputs": [
    {
     "name": "stderr",
     "output_type": "stream",
     "text": [
      "── \u001b[1mAttaching core tidyverse packages\u001b[22m ──────────────────────── tidyverse 2.0.0 ──\n",
      "\u001b[32m✔\u001b[39m \u001b[34mdplyr    \u001b[39m 1.1.2     \u001b[32m✔\u001b[39m \u001b[34mreadr    \u001b[39m 2.1.4\n",
      "\u001b[32m✔\u001b[39m \u001b[34mforcats  \u001b[39m 1.0.0     \u001b[32m✔\u001b[39m \u001b[34mstringr  \u001b[39m 1.5.0\n",
      "\u001b[32m✔\u001b[39m \u001b[34mggplot2  \u001b[39m 3.4.2     \u001b[32m✔\u001b[39m \u001b[34mtibble   \u001b[39m 3.2.1\n",
      "\u001b[32m✔\u001b[39m \u001b[34mlubridate\u001b[39m 1.9.2     \u001b[32m✔\u001b[39m \u001b[34mtidyr    \u001b[39m 1.3.0\n",
      "\u001b[32m✔\u001b[39m \u001b[34mpurrr    \u001b[39m 1.0.1     \n",
      "── \u001b[1mConflicts\u001b[22m ────────────────────────────────────────── tidyverse_conflicts() ──\n",
      "\u001b[31m✖\u001b[39m \u001b[34mdplyr\u001b[39m::\u001b[32mfilter()\u001b[39m masks \u001b[34mstats\u001b[39m::filter()\n",
      "\u001b[31m✖\u001b[39m \u001b[34mdplyr\u001b[39m::\u001b[32mlag()\u001b[39m    masks \u001b[34mstats\u001b[39m::lag()\n",
      "\u001b[36mℹ\u001b[39m Use the conflicted package (\u001b[3m\u001b[34m<http://conflicted.r-lib.org/>\u001b[39m\u001b[23m) to force all conflicts to become errors\n",
      "\n",
      "Attaching package: ‘xgboost’\n",
      "\n",
      "\n",
      "The following object is masked from ‘package:dplyr’:\n",
      "\n",
      "    slice\n",
      "\n",
      "\n"
     ]
    }
   ],
   "source": [
    "# * add cross validation\n",
    "# Private: 0.8243\n",
    "# Public: 0.83772\n",
    "\n",
    "library(tidyverse)\n",
    "library(xgboost)\n",
    "\n",
    "set.seed(123)\n",
    "\n",
    "train <- read.csv(\"/kaggle/input/santander-customer-satisfaction/train.csv\")\n",
    "test  <- read.csv(\"/kaggle/input/santander-customer-satisfaction/test.csv\")"
   ]
  },
  {
   "cell_type": "code",
   "execution_count": 2,
   "id": "3c2d260c",
   "metadata": {
    "execution": {
     "iopub.execute_input": "2023-06-04T01:37:55.219695Z",
     "iopub.status.busy": "2023-06-04T01:37:55.186154Z",
     "iopub.status.idle": "2023-06-04T01:37:55.242304Z",
     "shell.execute_reply": "2023-06-04T01:37:55.240306Z"
    },
    "papermill": {
     "duration": 0.065978,
     "end_time": "2023-06-04T01:37:55.245424",
     "exception": false,
     "start_time": "2023-06-04T01:37:55.179446",
     "status": "completed"
    },
    "tags": []
   },
   "outputs": [],
   "source": [
    "##### Removing IDs\n",
    "train$ID <- NULL\n",
    "test.id <- test$ID\n",
    "test$ID <- NULL\n",
    "\n",
    "##### Extracting TARGET\n",
    "train.y <- train$TARGET\n",
    "train$TARGET <- NULL"
   ]
  },
  {
   "cell_type": "code",
   "execution_count": 3,
   "id": "e37b13f8",
   "metadata": {
    "execution": {
     "iopub.execute_input": "2023-06-04T01:37:55.258776Z",
     "iopub.status.busy": "2023-06-04T01:37:55.257035Z",
     "iopub.status.idle": "2023-06-04T01:37:59.350607Z",
     "shell.execute_reply": "2023-06-04T01:37:59.348570Z"
    },
    "papermill": {
     "duration": 4.103945,
     "end_time": "2023-06-04T01:37:59.353457",
     "exception": false,
     "start_time": "2023-06-04T01:37:55.249512",
     "status": "completed"
    },
    "tags": []
   },
   "outputs": [
    {
     "name": "stdout",
     "output_type": "stream",
     "text": [
      "\n",
      "## Removing the constants features.\n"
     ]
    }
   ],
   "source": [
    "##### 0 count per line\n",
    "count0 <- function(x) {\n",
    "    return(sum(x == 0))\n",
    "}\n",
    "train$n0 <- apply(train, 1, FUN = count0)\n",
    "test$n0 <- apply(test, 1, FUN = count0)\n",
    "\n",
    "##### Removing constant features\n",
    "cat(\"\\n## Removing the constants features.\\n\")\n",
    "for (f in names(train)) {\n",
    "    if (length(unique(train[[f]])) == 1) {\n",
    "        # cat(f, \"is constant in train. We delete it.\\n\")\n",
    "        train[[f]] <- NULL\n",
    "        test[[f]] <- NULL\n",
    "    }\n",
    "}"
   ]
  },
  {
   "cell_type": "code",
   "execution_count": 4,
   "id": "df1c018e",
   "metadata": {
    "execution": {
     "iopub.execute_input": "2023-06-04T01:37:59.366550Z",
     "iopub.status.busy": "2023-06-04T01:37:59.364768Z",
     "iopub.status.idle": "2023-06-04T01:38:13.190103Z",
     "shell.execute_reply": "2023-06-04T01:38:13.188075Z"
    },
    "papermill": {
     "duration": 13.835908,
     "end_time": "2023-06-04T01:38:13.194157",
     "exception": false,
     "start_time": "2023-06-04T01:37:59.358249",
     "status": "completed"
    },
    "tags": []
   },
   "outputs": [],
   "source": [
    "\n",
    "##### Removing identical features\n",
    "features_pair <- combn(names(train), 2, simplify = F)\n",
    "toRemove <- c()\n",
    "for (pair in features_pair) {\n",
    "    f1 <- pair[1]\n",
    "    f2 <- pair[2]\n",
    "    \n",
    "    if (!(f1 %in% toRemove) & !(f2 %in% toRemove)) {\n",
    "        if (all(train[[f1]] == train[[f2]])) {\n",
    "            # cat(f1, \"and\", f2, \"are equals.\\n\")\n",
    "            toRemove <- c(toRemove, f2)\n",
    "        }\n",
    "    }\n",
    "}\n",
    "\n",
    "feature.names <- setdiff(names(train), toRemove)\n",
    "\n",
    "train <- train[, feature.names]\n",
    "test <- test[, feature.names]"
   ]
  },
  {
   "cell_type": "code",
   "execution_count": 5,
   "id": "1be47741",
   "metadata": {
    "execution": {
     "iopub.execute_input": "2023-06-04T01:38:13.206931Z",
     "iopub.status.busy": "2023-06-04T01:38:13.205132Z",
     "iopub.status.idle": "2023-06-04T01:38:13.268492Z",
     "shell.execute_reply": "2023-06-04T01:38:13.266440Z"
    },
    "papermill": {
     "duration": 0.073272,
     "end_time": "2023-06-04T01:38:13.271956",
     "exception": false,
     "start_time": "2023-06-04T01:38:13.198684",
     "status": "completed"
    },
    "tags": []
   },
   "outputs": [],
   "source": [
    "# Create additional features\n",
    "# var38mc == 1 when var38 has the most common value and 0 otherwise\n",
    "# logvar38 is log transformed feature when var38mc is 0, zero otherwise\n",
    "\n",
    "train <- train %>%\n",
    "    # This column mark the most common value\n",
    "    mutate(var38mc = ifelse(near(var38, 117310.979016494), 1, 0), ) %>%\n",
    "    \n",
    "    # This column will be normal distributed\n",
    "    mutate (logvar38 = ifelse(var38mc == 0, log(var38), 0))\n",
    "\n",
    "test <- test %>%\n",
    "    # This column mark the most common value\n",
    "    mutate(var38mc = ifelse(near(var38, 117310.979016494), 1, 0), ) %>%\n",
    "    \n",
    "    # This column will be normal distributed\n",
    "    mutate (logvar38 = ifelse(var38mc == 0, log(var38), 0))"
   ]
  },
  {
   "cell_type": "code",
   "execution_count": 6,
   "id": "b786734c",
   "metadata": {
    "execution": {
     "iopub.execute_input": "2023-06-04T01:38:13.284849Z",
     "iopub.status.busy": "2023-06-04T01:38:13.282980Z",
     "iopub.status.idle": "2023-06-04T01:38:13.339151Z",
     "shell.execute_reply": "2023-06-04T01:38:13.337148Z"
    },
    "papermill": {
     "duration": 0.066431,
     "end_time": "2023-06-04T01:38:13.342631",
     "exception": false,
     "start_time": "2023-06-04T01:38:13.276200",
     "status": "completed"
    },
    "tags": []
   },
   "outputs": [],
   "source": [
    "# add log_saldo_var30\n",
    "# 因為根據 data exploring 的結果，usatisfied customer 在 log_saldo_var30 有集中的趨勢 \n",
    "train$log_saldo_var30 <- train$saldo_var30\n",
    "\n",
    "smallest_positive_value <-\n",
    "    min(train$log_saldo_var30[train$log_saldo_var30 > 0], na.rm = TRUE)\n",
    "\n",
    "# remove negitive values (避免取 log 遇到負數)\n",
    "train$log_saldo_var30[train$log_saldo_var30 < smallest_positive_value] <-\n",
    "    smallest_positive_value\n",
    "\n",
    "train <- train %>%\n",
    "    mutate(log_saldo_var30 = ifelse(\n",
    "        log_saldo_var30 > smallest_positive_value,\n",
    "        log(log_saldo_var30),\n",
    "        0\n",
    "    ))\n",
    "\n",
    "\n",
    "test$log_saldo_var30 <- test$saldo_var30\n",
    "\n",
    "smallest_positive_value <-\n",
    "    min(test$log_saldo_var30[test$log_saldo_var30 > 0], na.rm = TRUE)\n",
    "\n",
    "# remove negitive values\n",
    "test$log_saldo_var30[test$log_saldo_var30 < smallest_positive_value] <-\n",
    "    smallest_positive_value\n",
    "\n",
    "test <- test %>%\n",
    "    mutate(log_saldo_var30 = ifelse(\n",
    "        log_saldo_var30 > smallest_positive_value,\n",
    "        log(log_saldo_var30),\n",
    "        0\n",
    "    ))"
   ]
  },
  {
   "cell_type": "code",
   "execution_count": 7,
   "id": "616f5d34",
   "metadata": {
    "execution": {
     "iopub.execute_input": "2023-06-04T01:38:13.355244Z",
     "iopub.status.busy": "2023-06-04T01:38:13.353439Z",
     "iopub.status.idle": "2023-06-04T01:38:13.711911Z",
     "shell.execute_reply": "2023-06-04T01:38:13.709518Z"
    },
    "papermill": {
     "duration": 0.367928,
     "end_time": "2023-06-04T01:38:13.714926",
     "exception": false,
     "start_time": "2023-06-04T01:38:13.346998",
     "status": "completed"
    },
    "tags": []
   },
   "outputs": [
    {
     "name": "stdout",
     "output_type": "stream",
     "text": [
      "[1] \"Setting min-max lims on test data\"\n"
     ]
    }
   ],
   "source": [
    "##### limit vars in test based on min and max vals of train (Remove Outlier)\n",
    "print('Setting min-max lims on test data')\n",
    "for (f in colnames(train)) {\n",
    "    lim <- min(train[, f])\n",
    "    test[test[, f] < lim, f] <- lim\n",
    "    \n",
    "    lim <- max(train[, f])\n",
    "    test[test[, f] > lim, f] <- lim\n",
    "}"
   ]
  },
  {
   "cell_type": "code",
   "execution_count": 8,
   "id": "a8f241b4",
   "metadata": {
    "execution": {
     "iopub.execute_input": "2023-06-04T01:38:13.728489Z",
     "iopub.status.busy": "2023-06-04T01:38:13.726745Z",
     "iopub.status.idle": "2023-06-04T01:44:08.038287Z",
     "shell.execute_reply": "2023-06-04T01:44:08.036169Z"
    },
    "papermill": {
     "duration": 354.323287,
     "end_time": "2023-06-04T01:44:08.042771",
     "exception": false,
     "start_time": "2023-06-04T01:38:13.719484",
     "status": "completed"
    },
    "tags": []
   },
   "outputs": [
    {
     "name": "stdout",
     "output_type": "stream",
     "text": [
      "[1]\ttrain-auc:0.764184+0.040187\ttest-auc:0.756315+0.038825 \n",
      "Multiple eval metrics are present. Will use test_auc for early stopping.\n",
      "Will train until test_auc hasn't improved in 10 rounds.\n",
      "\n",
      "[2]\ttrain-auc:0.787950+0.039308\ttest-auc:0.777961+0.040925 \n",
      "[3]\ttrain-auc:0.807012+0.025645\ttest-auc:0.797460+0.027253 \n",
      "[4]\ttrain-auc:0.817277+0.009699\ttest-auc:0.805605+0.013621 \n",
      "[5]\ttrain-auc:0.820277+0.008443\ttest-auc:0.809971+0.014060 \n",
      "[6]\ttrain-auc:0.823336+0.006777\ttest-auc:0.812197+0.013728 \n",
      "[7]\ttrain-auc:0.823760+0.006848\ttest-auc:0.812316+0.012695 \n",
      "[8]\ttrain-auc:0.827734+0.004481\ttest-auc:0.815838+0.011034 \n",
      "[9]\ttrain-auc:0.829747+0.003526\ttest-auc:0.817438+0.011478 \n",
      "[10]\ttrain-auc:0.831561+0.003082\ttest-auc:0.818916+0.010707 \n",
      "[11]\ttrain-auc:0.832243+0.003250\ttest-auc:0.819590+0.010353 \n",
      "[12]\ttrain-auc:0.832713+0.003323\ttest-auc:0.820685+0.009202 \n",
      "[13]\ttrain-auc:0.833645+0.002554\ttest-auc:0.821897+0.009049 \n",
      "[14]\ttrain-auc:0.834735+0.002026\ttest-auc:0.822341+0.008842 \n",
      "[15]\ttrain-auc:0.835191+0.002183\ttest-auc:0.822134+0.008842 \n",
      "[16]\ttrain-auc:0.836367+0.001975\ttest-auc:0.822960+0.008977 \n",
      "[17]\ttrain-auc:0.836367+0.002059\ttest-auc:0.822798+0.009227 \n",
      "[18]\ttrain-auc:0.837205+0.001786\ttest-auc:0.823846+0.009012 \n",
      "[19]\ttrain-auc:0.837867+0.001756\ttest-auc:0.824419+0.009180 \n",
      "[20]\ttrain-auc:0.838727+0.001667\ttest-auc:0.825119+0.008961 \n",
      "[21]\ttrain-auc:0.839222+0.001830\ttest-auc:0.825693+0.009199 \n",
      "[22]\ttrain-auc:0.839673+0.001742\ttest-auc:0.825812+0.009643 \n",
      "[23]\ttrain-auc:0.840456+0.001552\ttest-auc:0.826368+0.009176 \n",
      "[24]\ttrain-auc:0.841529+0.001527\ttest-auc:0.827175+0.008885 \n",
      "[25]\ttrain-auc:0.841738+0.001508\ttest-auc:0.827424+0.009128 \n",
      "[26]\ttrain-auc:0.842701+0.001219\ttest-auc:0.828278+0.009096 \n",
      "[27]\ttrain-auc:0.843378+0.001315\ttest-auc:0.828895+0.009242 \n",
      "[28]\ttrain-auc:0.843801+0.001256\ttest-auc:0.829265+0.009325 \n",
      "[29]\ttrain-auc:0.844755+0.001348\ttest-auc:0.830001+0.009003 \n",
      "[30]\ttrain-auc:0.845273+0.001392\ttest-auc:0.830386+0.008465 \n",
      "[31]\ttrain-auc:0.845736+0.001109\ttest-auc:0.830812+0.008585 \n",
      "[32]\ttrain-auc:0.846365+0.001185\ttest-auc:0.831014+0.008718 \n",
      "[33]\ttrain-auc:0.846900+0.001059\ttest-auc:0.831530+0.009038 \n",
      "[34]\ttrain-auc:0.847142+0.001037\ttest-auc:0.831503+0.008766 \n",
      "[35]\ttrain-auc:0.847456+0.001260\ttest-auc:0.831802+0.008482 \n",
      "[36]\ttrain-auc:0.848199+0.000970\ttest-auc:0.832148+0.008759 \n",
      "[37]\ttrain-auc:0.848701+0.000871\ttest-auc:0.832327+0.008897 \n",
      "[38]\ttrain-auc:0.849175+0.000613\ttest-auc:0.832394+0.008763 \n",
      "[39]\ttrain-auc:0.849711+0.000700\ttest-auc:0.832701+0.008768 \n",
      "[40]\ttrain-auc:0.849950+0.000926\ttest-auc:0.832651+0.009139 \n",
      "[41]\ttrain-auc:0.850159+0.000975\ttest-auc:0.832614+0.009082 \n",
      "[42]\ttrain-auc:0.850406+0.000985\ttest-auc:0.832656+0.009075 \n",
      "[43]\ttrain-auc:0.850645+0.000983\ttest-auc:0.832573+0.009023 \n",
      "[44]\ttrain-auc:0.851065+0.000905\ttest-auc:0.833111+0.008990 \n",
      "[45]\ttrain-auc:0.851331+0.001043\ttest-auc:0.833369+0.009046 \n",
      "[46]\ttrain-auc:0.851785+0.000931\ttest-auc:0.833541+0.009005 \n",
      "[47]\ttrain-auc:0.852103+0.000920\ttest-auc:0.833810+0.009047 \n",
      "[48]\ttrain-auc:0.852436+0.001063\ttest-auc:0.833951+0.008984 \n",
      "[49]\ttrain-auc:0.852609+0.001082\ttest-auc:0.833836+0.009109 \n",
      "[50]\ttrain-auc:0.853154+0.001056\ttest-auc:0.834467+0.008885 \n",
      "[51]\ttrain-auc:0.853500+0.001005\ttest-auc:0.834840+0.009128 \n",
      "[52]\ttrain-auc:0.853849+0.001013\ttest-auc:0.834965+0.009038 \n",
      "[53]\ttrain-auc:0.854167+0.001080\ttest-auc:0.835110+0.009041 \n",
      "[54]\ttrain-auc:0.854508+0.001126\ttest-auc:0.835566+0.008742 \n",
      "[55]\ttrain-auc:0.855001+0.001033\ttest-auc:0.835853+0.008749 \n",
      "[56]\ttrain-auc:0.855338+0.000995\ttest-auc:0.836062+0.008841 \n",
      "[57]\ttrain-auc:0.855699+0.000994\ttest-auc:0.836270+0.008998 \n",
      "[58]\ttrain-auc:0.856029+0.001051\ttest-auc:0.836427+0.009146 \n",
      "[59]\ttrain-auc:0.856357+0.001019\ttest-auc:0.836584+0.009024 \n",
      "[60]\ttrain-auc:0.856687+0.001009\ttest-auc:0.836510+0.009072 \n",
      "[61]\ttrain-auc:0.856991+0.001040\ttest-auc:0.836660+0.009032 \n",
      "[62]\ttrain-auc:0.857347+0.000978\ttest-auc:0.836893+0.009117 \n",
      "[63]\ttrain-auc:0.857665+0.000993\ttest-auc:0.836981+0.009074 \n",
      "[64]\ttrain-auc:0.858038+0.001092\ttest-auc:0.837032+0.009251 \n",
      "[65]\ttrain-auc:0.858384+0.001084\ttest-auc:0.837151+0.009083 \n",
      "[66]\ttrain-auc:0.858801+0.001070\ttest-auc:0.837375+0.009059 \n",
      "[67]\ttrain-auc:0.859228+0.001020\ttest-auc:0.837570+0.008997 \n",
      "[68]\ttrain-auc:0.859588+0.001004\ttest-auc:0.837704+0.009061 \n",
      "[69]\ttrain-auc:0.859966+0.001051\ttest-auc:0.837955+0.008921 \n",
      "[70]\ttrain-auc:0.860285+0.000974\ttest-auc:0.838021+0.008957 \n",
      "[71]\ttrain-auc:0.860587+0.000901\ttest-auc:0.838161+0.009075 \n",
      "[72]\ttrain-auc:0.860883+0.000865\ttest-auc:0.838353+0.009011 \n",
      "[73]\ttrain-auc:0.861230+0.000849\ttest-auc:0.838438+0.009017 \n",
      "[74]\ttrain-auc:0.861597+0.000861\ttest-auc:0.838668+0.008888 \n",
      "[75]\ttrain-auc:0.861880+0.000889\ttest-auc:0.838726+0.008848 \n",
      "[76]\ttrain-auc:0.862163+0.000883\ttest-auc:0.838864+0.008645 \n",
      "[77]\ttrain-auc:0.862485+0.000879\ttest-auc:0.838979+0.008696 \n",
      "[78]\ttrain-auc:0.862843+0.000833\ttest-auc:0.839186+0.008637 \n",
      "[79]\ttrain-auc:0.863157+0.000835\ttest-auc:0.839490+0.008530 \n",
      "[80]\ttrain-auc:0.863505+0.000805\ttest-auc:0.839577+0.008477 \n",
      "[81]\ttrain-auc:0.863852+0.000815\ttest-auc:0.839817+0.008518 \n",
      "[82]\ttrain-auc:0.864127+0.000870\ttest-auc:0.839971+0.008428 \n",
      "[83]\ttrain-auc:0.864436+0.000869\ttest-auc:0.840083+0.008415 \n",
      "[84]\ttrain-auc:0.864719+0.000875\ttest-auc:0.840201+0.008423 \n",
      "[85]\ttrain-auc:0.865054+0.000882\ttest-auc:0.840322+0.008545 \n",
      "[86]\ttrain-auc:0.865300+0.000865\ttest-auc:0.840514+0.008485 \n",
      "[87]\ttrain-auc:0.865634+0.000832\ttest-auc:0.840636+0.008658 \n",
      "[88]\ttrain-auc:0.865913+0.000836\ttest-auc:0.840699+0.008665 \n",
      "[89]\ttrain-auc:0.866173+0.000803\ttest-auc:0.840749+0.008658 \n",
      "[90]\ttrain-auc:0.866446+0.000812\ttest-auc:0.840806+0.008676 \n",
      "[91]\ttrain-auc:0.866723+0.000785\ttest-auc:0.840932+0.008745 \n",
      "[92]\ttrain-auc:0.867007+0.000805\ttest-auc:0.841021+0.008687 \n",
      "[93]\ttrain-auc:0.867242+0.000834\ttest-auc:0.841264+0.008691 \n",
      "[94]\ttrain-auc:0.867479+0.000830\ttest-auc:0.841246+0.008656 \n",
      "[95]\ttrain-auc:0.867761+0.000792\ttest-auc:0.841291+0.008636 \n",
      "[96]\ttrain-auc:0.867989+0.000771\ttest-auc:0.841404+0.008684 \n",
      "[97]\ttrain-auc:0.868243+0.000815\ttest-auc:0.841485+0.008674 \n",
      "[98]\ttrain-auc:0.868463+0.000835\ttest-auc:0.841548+0.008592 \n",
      "[99]\ttrain-auc:0.868669+0.000816\ttest-auc:0.841584+0.008609 \n",
      "[100]\ttrain-auc:0.868920+0.000786\ttest-auc:0.841702+0.008645 \n",
      "100"
     ]
    }
   ],
   "source": [
    "##### Model Tuning\n",
    "dtrain <- xgb.DMatrix(data = as.matrix(train), label = as.numeric(train.y))\n",
    "dtest <- xgb.DMatrix(data = as.matrix(test))\n",
    "\n",
    "params <- list(\n",
    "    max_depth = 5,\n",
    "    eta = 0.05,\n",
    "    gamma = 0.01,\n",
    "    min_child_weight = 0,\n",
    "    subsample = 0.5,\n",
    "    colsample_bytree=0.75,\n",
    "    booster = \"gbtree\",\n",
    "    objective = \"binary:logistic\",\n",
    "    eval_metric = \"auc\",\n",
    "    verbosity = 0\n",
    ")\n",
    "\n",
    "# xgboost 內建的 Cross Validation\n",
    "xgbCV <- xgb.cv(\n",
    "    params = params,\n",
    "    data = dtrain,\n",
    "    nrounds = 100,\n",
    "    prediction = TRUE,\n",
    "    showsd = TRUE,\n",
    "    early_stopping_rounds = 10,\n",
    "    maximize = TRUE,\n",
    "    nfold = 10,\n",
    "    stratified = TRUE\n",
    ")\n",
    "\n",
    "cat(xgbCV$best_iteration)"
   ]
  },
  {
   "cell_type": "code",
   "execution_count": 9,
   "id": "713ed7b9",
   "metadata": {
    "execution": {
     "iopub.execute_input": "2023-06-04T01:44:08.085383Z",
     "iopub.status.busy": "2023-06-04T01:44:08.083565Z",
     "iopub.status.idle": "2023-06-04T01:44:45.971735Z",
     "shell.execute_reply": "2023-06-04T01:44:45.968352Z"
    },
    "papermill": {
     "duration": 37.932287,
     "end_time": "2023-06-04T01:44:45.982566",
     "exception": false,
     "start_time": "2023-06-04T01:44:08.050279",
     "status": "completed"
    },
    "tags": []
   },
   "outputs": [
    {
     "data": {
      "image/png": "[encoded data removed]"
     },
     "metadata": {
      "image/png": {
       "height": 420,
       "width": 420
      }
     },
     "output_type": "display_data"
    }
   ],
   "source": [
    "# 訓練模型\n",
    "model <- xgb.train(\n",
    "    params = params,\n",
    "    data = dtrain,\n",
    "    nrounds = xgbCV$best_iteration\n",
    ")\n",
    "\n",
    "preds <- predict(model, dtest)\n",
    "\n",
    "# 可以印出哪些 features 對 xgboost 是重要的，取前 20 名\n",
    "mat <- xgb.importance (feature_names = colnames(train), model = model)\n",
    "xgb.plot.importance (importance_matrix = mat[1:20])\n"
   ]
  },
  {
   "cell_type": "code",
   "execution_count": 10,
   "id": "25b4155b",
   "metadata": {
    "execution": {
     "iopub.execute_input": "2023-06-04T01:44:45.998590Z",
     "iopub.status.busy": "2023-06-04T01:44:45.996526Z",
     "iopub.status.idle": "2023-06-04T01:44:46.206694Z",
     "shell.execute_reply": "2023-06-04T01:44:46.204541Z"
    },
    "papermill": {
     "duration": 0.222044,
     "end_time": "2023-06-04T01:44:46.210427",
     "exception": false,
     "start_time": "2023-06-04T01:44:45.988383",
     "status": "completed"
    },
    "tags": []
   },
   "outputs": [],
   "source": [
    "# 預測\n",
    "predict_df <- data.frame(ID = test.id, TARGET = preds)\n",
    "\n",
    "write.csv(\n",
    "    predict_df,\n",
    "    file = '/kaggle/working/submission_xgb_V5.csv',\n",
    "    quote = FALSE,\n",
    "    row.names = FALSE\n",
    ")"
   ]
  }
 ],
 "metadata": {
  "kernelspec": {
   "display_name": "R",
   "language": "R",
   "name": "ir"
  },
  "language_info": {
   "codemirror_mode": "r",
   "file_extension": ".r",
   "mimetype": "text/x-r-source",
   "name": "R",
   "pygments_lexer": "r",
   "version": "4.0.5"
  },
  "papermill": {
   "default_parameters": {},
   "duration": 440.190633,
   "end_time": "2023-06-04T01:44:46.743040",
   "environment_variables": {},
   "exception": null,
   "input_path": "__notebook__.ipynb",
   "output_path": "__notebook__.ipynb",
   "parameters": {},
   "start_time": "2023-06-04T01:37:26.552407",
   "version": "2.4.0"
  }
 },
 "nbformat": 4,
 "nbformat_minor": 5
}
