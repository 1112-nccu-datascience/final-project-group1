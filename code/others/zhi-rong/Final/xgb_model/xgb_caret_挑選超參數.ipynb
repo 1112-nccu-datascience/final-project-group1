{
 "cells": [
  {
   "cell_type": "code",
   "execution_count": 1,
   "id": "6e1f3cfd",
   "metadata": {
    "execution": {
     "iopub.execute_input": "2023-06-02T13:14:29.660858Z",
     "iopub.status.busy": "2023-06-02T13:14:29.658197Z",
     "iopub.status.idle": "2023-06-02T13:14:56.321867Z",
     "shell.execute_reply": "2023-06-02T13:14:56.319797Z"
    },
    "papermill": {
     "duration": 26.672968,
     "end_time": "2023-06-02T13:14:56.324967",
     "exception": false,
     "start_time": "2023-06-02T13:14:29.651999",
     "status": "completed"
    },
    "tags": []
   },
   "outputs": [
    {
     "name": "stderr",
     "output_type": "stream",
     "text": [
      "── \u001b[1mAttaching core tidyverse packages\u001b[22m ──────────────────────── tidyverse 2.0.0 ──\n",
      "\u001b[32m✔\u001b[39m \u001b[34mdplyr    \u001b[39m 1.1.2     \u001b[32m✔\u001b[39m \u001b[34mreadr    \u001b[39m 2.1.4\n",
      "\u001b[32m✔\u001b[39m \u001b[34mforcats  \u001b[39m 1.0.0     \u001b[32m✔\u001b[39m \u001b[34mstringr  \u001b[39m 1.5.0\n",
      "\u001b[32m✔\u001b[39m \u001b[34mggplot2  \u001b[39m 3.4.2     \u001b[32m✔\u001b[39m \u001b[34mtibble   \u001b[39m 3.2.1\n",
      "\u001b[32m✔\u001b[39m \u001b[34mlubridate\u001b[39m 1.9.2     \u001b[32m✔\u001b[39m \u001b[34mtidyr    \u001b[39m 1.3.0\n",
      "\u001b[32m✔\u001b[39m \u001b[34mpurrr    \u001b[39m 1.0.1     \n",
      "── \u001b[1mConflicts\u001b[22m ────────────────────────────────────────── tidyverse_conflicts() ──\n",
      "\u001b[31m✖\u001b[39m \u001b[34mdplyr\u001b[39m::\u001b[32mfilter()\u001b[39m masks \u001b[34mstats\u001b[39m::filter()\n",
      "\u001b[31m✖\u001b[39m \u001b[34mdplyr\u001b[39m::\u001b[32mlag()\u001b[39m    masks \u001b[34mstats\u001b[39m::lag()\n",
      "\u001b[36mℹ\u001b[39m Use the conflicted package (\u001b[3m\u001b[34m<http://conflicted.r-lib.org/>\u001b[39m\u001b[23m) to force all conflicts to become errors\n",
      "\n",
      "Attaching package: ‘xgboost’\n",
      "\n",
      "\n",
      "The following object is masked from ‘package:dplyr’:\n",
      "\n",
      "    slice\n",
      "\n",
      "\n",
      "Loading required package: lattice\n",
      "\n",
      "\n",
      "Attaching package: ‘caret’\n",
      "\n",
      "\n",
      "The following object is masked from ‘package:purrr’:\n",
      "\n",
      "    lift\n",
      "\n",
      "\n",
      "The following object is masked from ‘package:httr’:\n",
      "\n",
      "    progress\n",
      "\n",
      "\n"
     ]
    }
   ],
   "source": [
    "# Hyper Parameter\n",
    "# Private: 0.81518\n",
    "# Public: 0.82969\n",
    "\n",
    "library(tidyverse)\n",
    "library(xgboost)\n",
    "library(caret)\n",
    "\n",
    "set.seed(123)\n",
    "\n",
    "train <- read.csv(\"/kaggle/input/santander-customer-satisfaction/train.csv\")\n",
    "test  <- read.csv(\"/kaggle/input/santander-customer-satisfaction/test.csv\")\n",
    "\n",
    "##### Removing IDs\n",
    "train$ID <- NULL\n",
    "test.id <- test$ID\n",
    "test$ID <- NULL\n",
    "\n",
    "##### Extracting TARGET\n",
    "train.y <- train$TARGET\n",
    "train$TARGET <- NULL"
   ]
  },
  {
   "cell_type": "code",
   "execution_count": 2,
   "id": "eb37d407",
   "metadata": {
    "execution": {
     "iopub.execute_input": "2023-06-02T13:14:56.366529Z",
     "iopub.status.busy": "2023-06-02T13:14:56.334799Z",
     "iopub.status.idle": "2023-06-02T13:15:14.777384Z",
     "shell.execute_reply": "2023-06-02T13:15:14.775513Z"
    },
    "papermill": {
     "duration": 18.452194,
     "end_time": "2023-06-02T13:15:14.780512",
     "exception": false,
     "start_time": "2023-06-02T13:14:56.328318",
     "status": "completed"
    },
    "tags": []
   },
   "outputs": [
    {
     "name": "stdout",
     "output_type": "stream",
     "text": [
      "\n",
      "## Removing the constants features.\n",
      "[1] \"Setting min-max lims on test data\"\n"
     ]
    }
   ],
   "source": [
    "##### 0 count per line\n",
    "count0 <- function(x) {\n",
    "    return(sum(x == 0))\n",
    "}\n",
    "train$n0 <- apply(train, 1, FUN = count0)\n",
    "test$n0 <- apply(test, 1, FUN = count0)\n",
    "\n",
    "##### Removing constant features\n",
    "cat(\"\\n## Removing the constants features.\\n\")\n",
    "for (f in names(train)) {\n",
    "    if (length(unique(train[[f]])) == 1) {\n",
    "        # cat(f, \"is constant in train. We delete it.\\n\")\n",
    "        train[[f]] <- NULL\n",
    "        test[[f]] <- NULL\n",
    "    }\n",
    "}\n",
    "\n",
    "##### Removing identical features\n",
    "features_pair <- combn(names(train), 2, simplify = F)\n",
    "toRemove <- c()\n",
    "for (pair in features_pair) {\n",
    "    f1 <- pair[1]\n",
    "    f2 <- pair[2]\n",
    "    \n",
    "    if (!(f1 %in% toRemove) & !(f2 %in% toRemove)) {\n",
    "        if (all(train[[f1]] == train[[f2]])) {\n",
    "            # cat(f1, \"and\", f2, \"are equals.\\n\")\n",
    "            toRemove <- c(toRemove, f2)\n",
    "        }\n",
    "    }\n",
    "}\n",
    "\n",
    "feature.names <- setdiff(names(train), toRemove)\n",
    "\n",
    "train <- train[, feature.names]\n",
    "test <- test[, feature.names]\n",
    "\n",
    "\n",
    "# Create additional features\n",
    "# var38mc == 1 when var38 has the most common value and 0 otherwise\n",
    "# logvar38 is log transformed feature when var38mc is 0, zero otherwise\n",
    "\n",
    "train <- train %>%\n",
    "    # This column mark the most common value\n",
    "    mutate(var38mc = ifelse(near(var38, 117310.979016494), 1, 0),) %>%\n",
    "    \n",
    "    # This column will be normal distributed\n",
    "    mutate (logvar38 = ifelse(var38mc == 0, log(var38), 0))\n",
    "\n",
    "test <- test %>%\n",
    "    # This column mark the most common value\n",
    "    mutate(var38mc = ifelse(near(var38, 117310.979016494), 1, 0),) %>%\n",
    "    \n",
    "    # This column will be normal distributed\n",
    "    mutate (logvar38 = ifelse(var38mc == 0, log(var38), 0))\n",
    "\n",
    "\n",
    "# add log_saldo_var30\n",
    "train$log_saldo_var30 <- train$saldo_var30\n",
    "\n",
    "smallest_positive_value <-\n",
    "    min(train$log_saldo_var30[train$log_saldo_var30 > 0], na.rm = TRUE)\n",
    "\n",
    "# remove negitive values\n",
    "train$log_saldo_var30[train$log_saldo_var30 < smallest_positive_value] <-\n",
    "    smallest_positive_value\n",
    "\n",
    "train <- train %>%\n",
    "    mutate(log_saldo_var30 = ifelse(\n",
    "        log_saldo_var30 > smallest_positive_value,\n",
    "        log(log_saldo_var30),\n",
    "        0\n",
    "    ))\n",
    "\n",
    "\n",
    "test$log_saldo_var30 <- test$saldo_var30\n",
    "\n",
    "smallest_positive_value <-\n",
    "    min(test$log_saldo_var30[test$log_saldo_var30 > 0], na.rm = TRUE)\n",
    "\n",
    "# remove negitive values\n",
    "test$log_saldo_var30[test$log_saldo_var30 < smallest_positive_value] <-\n",
    "    smallest_positive_value\n",
    "\n",
    "test <- test %>%\n",
    "    mutate(log_saldo_var30 = ifelse(\n",
    "        log_saldo_var30 > smallest_positive_value,\n",
    "        log(log_saldo_var30),\n",
    "        0\n",
    "    ))\n",
    "\n",
    "##### limit vars in test based on min and max vals of train (Remove Outlier)\n",
    "print('Setting min-max lims on test data')\n",
    "for (f in colnames(train)) {\n",
    "    lim <- min(train[, f])\n",
    "    test[test[, f] < lim, f] <- lim\n",
    "    \n",
    "    lim <- max(train[, f])\n",
    "    test[test[, f] > lim, f] <- lim\n",
    "}\n"
   ]
  },
  {
   "cell_type": "code",
   "execution_count": 3,
   "id": "76a600a1",
   "metadata": {
    "execution": {
     "iopub.execute_input": "2023-06-02T13:15:14.790631Z",
     "iopub.status.busy": "2023-06-02T13:15:14.789036Z",
     "iopub.status.idle": "2023-06-02T13:46:29.399512Z",
     "shell.execute_reply": "2023-06-02T13:46:29.397638Z"
    },
    "papermill": {
     "duration": 1874.618727,
     "end_time": "2023-06-02T13:46:29.402755",
     "exception": false,
     "start_time": "2023-06-02T13:15:14.784028",
     "status": "completed"
    },
    "tags": []
   },
   "outputs": [],
   "source": [
    "##### Model Tuning\n",
    "train$TARGET <- train.y\n",
    "train <- train %>% \n",
    "    mutate(\n",
    "        TARGET = as.factor(ifelse(TARGET == 1, \"y\", \"n\")),\n",
    "    )\n",
    "\n",
    "trctrl <- trainControl(\n",
    "    method = \"cv\", \n",
    "    number = 5,\n",
    "    search = \"grid\",\n",
    "    classProbs = TRUE,\n",
    "    allowParallel = TRUE\n",
    ")\n",
    "\n",
    "tune_grid <- expand.grid(\n",
    "    nrounds = c(100, 200),\n",
    "    max_depth = c(5, 10),\n",
    "    eta = c(0.05, 0.2),\n",
    "    gamma = 0.01,\n",
    "    colsample_bytree = 0.75,\n",
    "    min_child_weight = 0,\n",
    "    subsample = 0.5\n",
    ")\n",
    "\n",
    "fit <- caret::train(\n",
    "    TARGET ~ .,\n",
    "    data = train,\n",
    "    method = \"xgbTree\",\n",
    "    trControl = trctrl,\n",
    "    tuneGrid = tune_grid,\n",
    "    verbosity = 0\n",
    ")"
   ]
  },
  {
   "cell_type": "code",
   "execution_count": 4,
   "id": "84de0c80",
   "metadata": {
    "execution": {
     "iopub.execute_input": "2023-06-02T13:46:29.577450Z",
     "iopub.status.busy": "2023-06-02T13:46:29.575126Z",
     "iopub.status.idle": "2023-06-02T13:46:29.601623Z",
     "shell.execute_reply": "2023-06-02T13:46:29.599517Z"
    },
    "papermill": {
     "duration": 0.197666,
     "end_time": "2023-06-02T13:46:29.604463",
     "exception": false,
     "start_time": "2023-06-02T13:46:29.406797",
     "status": "completed"
    },
    "tags": []
   },
   "outputs": [
    {
     "name": "stdout",
     "output_type": "stream",
     "text": [
      "  nrounds max_depth  eta gamma colsample_bytree min_child_weight subsample\n",
      "2     200         5 0.05  0.01             0.75                0       0.5\n"
     ]
    }
   ],
   "source": [
    "best_params <- fit$bestTune   # Best parameter settings\n",
    "best_model <- fit$finalModel  # Best model\n",
    "\n",
    "print(best_params)\n",
    "# print(best_model)"
   ]
  },
  {
   "cell_type": "code",
   "execution_count": 5,
   "id": "3998d8ea",
   "metadata": {
    "execution": {
     "iopub.execute_input": "2023-06-02T13:46:29.617184Z",
     "iopub.status.busy": "2023-06-02T13:46:29.614926Z",
     "iopub.status.idle": "2023-06-02T13:46:31.998517Z",
     "shell.execute_reply": "2023-06-02T13:46:31.995943Z"
    },
    "papermill": {
     "duration": 2.395409,
     "end_time": "2023-06-02T13:46:32.003530",
     "exception": false,
     "start_time": "2023-06-02T13:46:29.608121",
     "status": "completed"
    },
    "tags": []
   },
   "outputs": [
    {
     "name": "stderr",
     "output_type": "stream",
     "text": [
      "Warning message:\n",
      "“\u001b[1m\u001b[22m`data_frame()` was deprecated in tibble 1.1.0.\n",
      "\u001b[36mℹ\u001b[39m Please use `tibble()` instead.”\n"
     ]
    }
   ],
   "source": [
    "preds <- predict(fit, test, type = \"prob\")\n",
    "pred_prob_y <- preds[, 2]\n",
    "\n",
    "predict_df <- data_frame(Id = test.id, TARGET = pred_prob_y)\n",
    "\n",
    "write.csv(\n",
    "    predict_df,\n",
    "    file = '/kaggle/working/submission_xgb_V6.csv',\n",
    "    quote = FALSE,\n",
    "    row.names = FALSE\n",
    ")\n"
   ]
  },
  {
   "cell_type": "code",
   "execution_count": null,
   "id": "e349cba4",
   "metadata": {
    "papermill": {
     "duration": 0.00344,
     "end_time": "2023-06-02T13:46:32.010395",
     "exception": false,
     "start_time": "2023-06-02T13:46:32.006955",
     "status": "completed"
    },
    "tags": []
   },
   "outputs": [],
   "source": []
  },
  {
   "cell_type": "code",
   "execution_count": null,
   "id": "4d3ce013",
   "metadata": {
    "papermill": {
     "duration": 0.003484,
     "end_time": "2023-06-02T13:46:32.018195",
     "exception": false,
     "start_time": "2023-06-02T13:46:32.014711",
     "status": "completed"
    },
    "tags": []
   },
   "outputs": [],
   "source": []
  }
 ],
 "metadata": {
  "kernelspec": {
   "display_name": "R",
   "language": "R",
   "name": "ir"
  },
  "language_info": {
   "codemirror_mode": "r",
   "file_extension": ".r",
   "mimetype": "text/x-r-source",
   "name": "R",
   "pygments_lexer": "r",
   "version": "4.0.5"
  },
  "papermill": {
   "default_parameters": {},
   "duration": 1926.282159,
   "end_time": "2023-06-02T13:46:32.346311",
   "environment_variables": {},
   "exception": null,
   "input_path": "__notebook__.ipynb",
   "output_path": "__notebook__.ipynb",
   "parameters": {},
   "start_time": "2023-06-02T13:14:26.064152",
   "version": "2.4.0"
  }
 },
 "nbformat": 4,
 "nbformat_minor": 5
}
