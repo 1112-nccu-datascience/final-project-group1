{
 "cells": [
  {
   "cell_type": "code",
   "execution_count": 1,
   "id": "9ba3fe61",
   "metadata": {
    "execution": {
     "iopub.execute_input": "2023-06-04T01:55:15.315021Z",
     "iopub.status.busy": "2023-06-04T01:55:15.311785Z",
     "iopub.status.idle": "2023-06-04T01:55:28.131743Z",
     "shell.execute_reply": "2023-06-04T01:55:28.129577Z"
    },
    "papermill": {
     "duration": 12.828205,
     "end_time": "2023-06-04T01:55:28.134422",
     "exception": false,
     "start_time": "2023-06-04T01:55:15.306217",
     "status": "completed"
    },
    "tags": []
   },
   "outputs": [
    {
     "name": "stderr",
     "output_type": "stream",
     "text": [
      "── \u001b[1mAttaching core tidyverse packages\u001b[22m ──────────────────────── tidyverse 2.0.0 ──\n",
      "\u001b[32m✔\u001b[39m \u001b[34mdplyr    \u001b[39m 1.1.2     \u001b[32m✔\u001b[39m \u001b[34mreadr    \u001b[39m 2.1.4\n",
      "\u001b[32m✔\u001b[39m \u001b[34mforcats  \u001b[39m 1.0.0     \u001b[32m✔\u001b[39m \u001b[34mstringr  \u001b[39m 1.5.0\n",
      "\u001b[32m✔\u001b[39m \u001b[34mggplot2  \u001b[39m 3.4.2     \u001b[32m✔\u001b[39m \u001b[34mtibble   \u001b[39m 3.2.1\n",
      "\u001b[32m✔\u001b[39m \u001b[34mlubridate\u001b[39m 1.9.2     \u001b[32m✔\u001b[39m \u001b[34mtidyr    \u001b[39m 1.3.0\n",
      "\u001b[32m✔\u001b[39m \u001b[34mpurrr    \u001b[39m 1.0.1     \n",
      "── \u001b[1mConflicts\u001b[22m ────────────────────────────────────────── tidyverse_conflicts() ──\n",
      "\u001b[31m✖\u001b[39m \u001b[34mdplyr\u001b[39m::\u001b[32mfilter()\u001b[39m masks \u001b[34mstats\u001b[39m::filter()\n",
      "\u001b[31m✖\u001b[39m \u001b[34mdplyr\u001b[39m::\u001b[32mlag()\u001b[39m    masks \u001b[34mstats\u001b[39m::lag()\n",
      "\u001b[36mℹ\u001b[39m Use the conflicted package (\u001b[3m\u001b[34m<http://conflicted.r-lib.org/>\u001b[39m\u001b[23m) to force all conflicts to become errors\n"
     ]
    }
   ],
   "source": [
    "library(tidyverse)\n",
    "\n",
    "train <- read.csv(\"/kaggle/input/santander-customer-satisfaction/train.csv\")\n",
    "\n",
    "train_clean <- train %>%\n",
    "    mutate(ID = NULL, TARGET = NULL)\n",
    "\n",
    "\n",
    "# Removing constant features\n",
    "for (f in names(train_clean)) {\n",
    "    if (length(unique(train_clean[[f]])) == 1) {\n",
    "        train_clean[[f]] <- NULL\n",
    "    }\n",
    "}"
   ]
  },
  {
   "cell_type": "code",
   "execution_count": 2,
   "id": "f3e3c50b",
   "metadata": {
    "execution": {
     "iopub.execute_input": "2023-06-04T01:55:28.180659Z",
     "iopub.status.busy": "2023-06-04T01:55:28.141763Z",
     "iopub.status.idle": "2023-06-04T01:55:35.436953Z",
     "shell.execute_reply": "2023-06-04T01:55:35.432699Z"
    },
    "papermill": {
     "duration": 7.305305,
     "end_time": "2023-06-04T01:55:35.442201",
     "exception": false,
     "start_time": "2023-06-04T01:55:28.136896",
     "status": "completed"
    },
    "tags": []
   },
   "outputs": [
    {
     "data": {
      "text/html": [
       "<style>\n",
       ".dl-inline {width: auto; margin:0; padding: 0}\n",
       ".dl-inline>dt, .dl-inline>dd {float: none; width: auto; display: inline-block}\n",
       ".dl-inline>dt::after {content: \":\\0020\"; padding-right: .5ex}\n",
       ".dl-inline>dt:not(:first-of-type) {padding-left: .5ex}\n",
       "</style><dl class=dl-inline><dt>PC1</dt><dd>0.08082</dd><dt>PC2</dt><dd>0.05229</dd><dt>PC3</dt><dd>0.03644</dd><dt>PC4</dt><dd>0.03479</dd><dt>PC5</dt><dd>0.03415</dd><dt>PC6</dt><dd>0.03118</dd><dt>PC7</dt><dd>0.02941</dd><dt>PC8</dt><dd>0.02824</dd><dt>PC9</dt><dd>0.0261</dd><dt>PC10</dt><dd>0.02561</dd></dl>\n"
      ],
      "text/latex": [
       "\\begin{description*}\n",
       "\\item[PC1] 0.08082\n",
       "\\item[PC2] 0.05229\n",
       "\\item[PC3] 0.03644\n",
       "\\item[PC4] 0.03479\n",
       "\\item[PC5] 0.03415\n",
       "\\item[PC6] 0.03118\n",
       "\\item[PC7] 0.02941\n",
       "\\item[PC8] 0.02824\n",
       "\\item[PC9] 0.0261\n",
       "\\item[PC10] 0.02561\n",
       "\\end{description*}\n"
      ],
      "text/markdown": [
       "PC1\n",
       ":   0.08082PC2\n",
       ":   0.05229PC3\n",
       ":   0.03644PC4\n",
       ":   0.03479PC5\n",
       ":   0.03415PC6\n",
       ":   0.03118PC7\n",
       ":   0.02941PC8\n",
       ":   0.02824PC9\n",
       ":   0.0261PC10\n",
       ":   0.02561\n",
       "\n"
      ],
      "text/plain": [
       "    PC1     PC2     PC3     PC4     PC5     PC6     PC7     PC8     PC9    PC10 \n",
       "0.08082 0.05229 0.03644 0.03479 0.03415 0.03118 0.02941 0.02824 0.02610 0.02561 "
      ]
     },
     "metadata": {},
     "output_type": "display_data"
    }
   ],
   "source": [
    "train_clean.pca <- prcomp(train_clean, center = TRUE, scale. = TRUE)\n",
    "\n",
    "# show variance explained (first 10)\n",
    "train_clean.summary <- summary(train_clean.pca)\n",
    "train_clean.summary$importance[2, 1:10]"
   ]
  },
  {
   "cell_type": "code",
   "execution_count": 3,
   "id": "a470cb3e",
   "metadata": {
    "execution": {
     "iopub.execute_input": "2023-06-04T01:55:35.459419Z",
     "iopub.status.busy": "2023-06-04T01:55:35.455597Z",
     "iopub.status.idle": "2023-06-04T01:55:35.561295Z",
     "shell.execute_reply": "2023-06-04T01:55:35.559384Z"
    },
    "papermill": {
     "duration": 0.116581,
     "end_time": "2023-06-04T01:55:35.563663",
     "exception": false,
     "start_time": "2023-06-04T01:55:35.447082",
     "status": "completed"
    },
    "tags": []
   },
   "outputs": [
    {
     "data": {
      "text/html": [
       "0.37903"
      ],
      "text/latex": [
       "0.37903"
      ],
      "text/markdown": [
       "0.37903"
      ],
      "text/plain": [
       "[1] 0.37903"
      ]
     },
     "metadata": {},
     "output_type": "display_data"
    },
    {
     "data": {
      "text/html": [
       "0.56087"
      ],
      "text/latex": [
       "0.56087"
      ],
      "text/markdown": [
       "0.56087"
      ],
      "text/plain": [
       "[1] 0.56087"
      ]
     },
     "metadata": {},
     "output_type": "display_data"
    },
    {
     "data": {
      "text/html": [
       "0.67158"
      ],
      "text/latex": [
       "0.67158"
      ],
      "text/markdown": [
       "0.67158"
      ],
      "text/plain": [
       "[1] 0.67158"
      ]
     },
     "metadata": {},
     "output_type": "display_data"
    },
    {
     "data": {
      "text/html": [
       "0.75279"
      ],
      "text/latex": [
       "0.75279"
      ],
      "text/markdown": [
       "0.75279"
      ],
      "text/plain": [
       "[1] 0.75279"
      ]
     },
     "metadata": {},
     "output_type": "display_data"
    },
    {
     "data": {
      "text/html": [
       "0.81262"
      ],
      "text/latex": [
       "0.81262"
      ],
      "text/markdown": [
       "0.81262"
      ],
      "text/plain": [
       "[1] 0.81262"
      ]
     },
     "metadata": {},
     "output_type": "display_data"
    },
    {
     "data": {
      "text/html": [
       "0.85549"
      ],
      "text/latex": [
       "0.85549"
      ],
      "text/markdown": [
       "0.85549"
      ],
      "text/plain": [
       "[1] 0.85549"
      ]
     },
     "metadata": {},
     "output_type": "display_data"
    },
    {
     "data": {
      "text/html": [
       "0.88781"
      ],
      "text/latex": [
       "0.88781"
      ],
      "text/markdown": [
       "0.88781"
      ],
      "text/plain": [
       "[1] 0.88781"
      ]
     },
     "metadata": {},
     "output_type": "display_data"
    },
    {
     "data": {
      "text/html": [
       "0.91348"
      ],
      "text/latex": [
       "0.91348"
      ],
      "text/markdown": [
       "0.91348"
      ],
      "text/plain": [
       "[1] 0.91348"
      ]
     },
     "metadata": {},
     "output_type": "display_data"
    },
    {
     "data": {
      "text/html": [
       "0.93451"
      ],
      "text/latex": [
       "0.93451"
      ],
      "text/markdown": [
       "0.93451"
      ],
      "text/plain": [
       "[1] 0.93451"
      ]
     },
     "metadata": {},
     "output_type": "display_data"
    },
    {
     "data": {
      "text/html": [
       "0.95101"
      ],
      "text/latex": [
       "0.95101"
      ],
      "text/markdown": [
       "0.95101"
      ],
      "text/plain": [
       "[1] 0.95101"
      ]
     },
     "metadata": {},
     "output_type": "display_data"
    }
   ],
   "source": [
    "# At least PC100 for 95% variance explained\n",
    "sum(train_clean.summary$importance[2, 1:10])\n",
    "sum(train_clean.summary$importance[2, 1:20])\n",
    "sum(train_clean.summary$importance[2, 1:30])\n",
    "sum(train_clean.summary$importance[2, 1:40])\n",
    "sum(train_clean.summary$importance[2, 1:50])\n",
    "sum(train_clean.summary$importance[2, 1:60])\n",
    "sum(train_clean.summary$importance[2, 1:70])\n",
    "sum(train_clean.summary$importance[2, 1:80])\n",
    "sum(train_clean.summary$importance[2, 1:90])\n",
    "sum(train_clean.summary$importance[2, 1:100])"
   ]
  }
 ],
 "metadata": {
  "kernelspec": {
   "display_name": "R",
   "language": "R",
   "name": "ir"
  },
  "language_info": {
   "codemirror_mode": "r",
   "file_extension": ".r",
   "mimetype": "text/x-r-source",
   "name": "R",
   "pygments_lexer": "r",
   "version": "4.0.5"
  },
  "papermill": {
   "default_parameters": {},
   "duration": 23.944321,
   "end_time": "2023-06-04T01:55:35.789831",
   "environment_variables": {},
   "exception": null,
   "input_path": "__notebook__.ipynb",
   "output_path": "__notebook__.ipynb",
   "parameters": {},
   "start_time": "2023-06-04T01:55:11.845510",
   "version": "2.4.0"
  }
 },
 "nbformat": 4,
 "nbformat_minor": 5
}
